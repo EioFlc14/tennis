{
 "cells": [
  {
   "cell_type": "code",
   "execution_count": null,
   "metadata": {},
   "outputs": [],
   "source": [
    "import random\n",
    "def start_game():\n",
    "    return 0,0 # player1,player2\n",
    "\n",
    "def result(p1_points,p2_points):\n",
    "    deuce = \"Deuce\"\n",
    "    adva = 41\n",
    "    wins = 42\n",
    "\n",
    "    if p1_points >= 40 and p2_points < 30:\n",
    "        return \"Player One wins\",p1_points,p2_points,True\n",
    "    elif p2_points >= 40 and p1_points < 30:\n",
    "        return \"Player Two wins\",p1_points,p2_points,True\n",
    "    elif (p1_points == 40 and p2_points == 40) and (p1_points == 30 and p2_points == 30):\n",
    "        return deuce,p1_points,p2_points,False\n",
    "    elif p1_points == adva and p2_points == 40:\n",
    "        return \"Advantage \" + \" PlayerOne\",p1_points,p2_points,False\n",
    "    elif p2_points == adva and p1_points == 40:\n",
    "        return \"Advantage \" + \" PlayerTwo\",p1_points,p2_points,False\n",
    "    elif p1_points == wins and p2_points == 40:\n",
    "        return \"PlayerOne wins\",p1_points,p2_points,True\n",
    "    elif p2_points == wins and p1_points == 40:\n",
    "        return \"PlayerTwo wins\",p1_points,p2_points,True\n",
    "    else:\n",
    "        return \"PlayerOne \" + str(p1_points) + \" - PlayerTwo \" + str(p2_points),p1_points,p2_points,False   \n",
    "    \n",
    "    \n",
    "def assign_points(p1, p2, turn):\n",
    "    points = [0,15,30,40,41,42]\n",
    "    \n",
    "    if (p1 <= points[3] and p2 <= points[3]):# normal points\n",
    "        if turn == \"p1\":\n",
    "            p1 = points[points.index(p1) + 1]\n",
    "        else:\n",
    "            p2 = points[points.index(p2) + 1]\n",
    "    elif p1 == points[4] and p2 <= points[3]: # advantage p1\n",
    "        if turn == \"p1\":\n",
    "            p1 = points[points.index(p1) + 1]\n",
    "        else:\n",
    "            p1 = points[points.index(p1) - 1]\n",
    "    elif p2 == points[4] and p1 <= points[3]: # advantage p2\n",
    "        if turn == \"p1\":\n",
    "            p2 = points[points.index(p2) + 1]\n",
    "        else:\n",
    "            p2 = points[points.index(p2) - 1]\n",
    "    \n",
    "    return p1,p2\n",
    "\n",
    "            \n",
    "def play_point():\n",
    "    return random.choice([\"p1\",\"p2\"])"
   ]
  },
  {
   "cell_type": "code",
   "execution_count": 103,
   "metadata": {},
   "outputs": [
    {
     "name": "stdout",
     "output_type": "stream",
     "text": [
      "PlayerOne 15 - PlayerTwo 0\n",
      "Want to continue playing? (Y/N): y\n",
      "PlayerOne 15 - PlayerTwo 15\n",
      "Want to continue playing? (Y/N): y\n",
      "PlayerOne 30 - PlayerTwo 15\n",
      "Want to continue playing? (Y/N): y\n",
      "PlayerOne 30 - PlayerTwo 30\n",
      "Want to continue playing? (Y/N): y\n",
      "PlayerOne 30 - PlayerTwo 40\n",
      "Want to continue playing? (Y/N): y\n",
      "PlayerOne 40 - PlayerTwo 40\n",
      "Want to continue playing? (Y/N): y\n",
      "Advantage  PlayerTwo\n",
      "Want to continue playing? (Y/N): y\n",
      "PlayerTwo wins\n",
      "Want to continue playing? (Y/N): n\n"
     ]
    }
   ],
   "source": [
    "continuing = True\n",
    "ended = True\n",
    "p1_points,p2_points = start_game()\n",
    "while continuing:\n",
    "    pointWonTo = play_point()\n",
    "    p1_points,p2_points = assign_points(p1_points,p2_points,pointWonTo)\n",
    "    output,p1_points,p2_points,ended = result(p1_points,p2_points)\n",
    "    print(output)\n",
    "    continuing = input(\"Want to continue playing? (Y/N): \")\n",
    "    if continuing == \"Y\" or continuing == \"y\" :\n",
    "        continuing = True\n",
    "    else:\n",
    "        continuing = False"
   ]
  }
 ],
 "metadata": {
  "kernelspec": {
   "display_name": "Python 3 (ipykernel)",
   "language": "python",
   "name": "python3"
  },
  "language_info": {
   "codemirror_mode": {
    "name": "ipython",
    "version": 3
   },
   "file_extension": ".py",
   "mimetype": "text/x-python",
   "name": "python",
   "nbconvert_exporter": "python",
   "pygments_lexer": "ipython3",
   "version": "3.8.5"
  }
 },
 "nbformat": 4,
 "nbformat_minor": 4
}
